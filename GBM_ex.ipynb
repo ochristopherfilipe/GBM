{
  "nbformat": 4,
  "nbformat_minor": 0,
  "metadata": {
    "colab": {
      "provenance": []
    },
    "kernelspec": {
      "name": "python3",
      "display_name": "Python 3"
    },
    "language_info": {
      "name": "python"
    }
  },
  "cells": [
    {
      "cell_type": "markdown",
      "source": [
        "Exemplo de GBM da documentação do *scikit_learn*"
      ],
      "metadata": {
        "id": "svluKYwVcaZN"
      }
    },
    {
      "cell_type": "code",
      "execution_count": 4,
      "metadata": {
        "colab": {
          "base_uri": "https://localhost:8080/"
        },
        "id": "_LsSEv1GY9eV",
        "outputId": "30954c7c-48f9-4f8c-a20e-7bda1963bbb8"
      },
      "outputs": [
        {
          "output_type": "stream",
          "name": "stdout",
          "text": [
            "Acurácia do modelo base: 0.8965\n"
          ]
        }
      ],
      "source": [
        "from sklearn.datasets import make_hastie_10_2\n",
        "from sklearn.ensemble import HistGradientBoostingClassifier\n",
        "\n",
        "# Carregando o conjunto de dados\n",
        "X, y = make_hastie_10_2(random_state=0)\n",
        "X_train, X_test = X[:2000], X[2000:]\n",
        "y_train, y_test = y[:2000], y[2000:]\n",
        "\n",
        "# Criando o classificador GradientBoostingClassifier\n",
        "clf = HistGradientBoostingClassifier(max_iter=100).fit(X_train, y_train)\n",
        "accuracy = clf.score(X_test, y_test)\n",
        "print(\"Acurácia do modelo base:\", accuracy)\n"
      ]
    },
    {
      "cell_type": "markdown",
      "source": [
        "## Usando o GrindSearch, tentei melhorar o desenpenho do modelo:"
      ],
      "metadata": {
        "id": "YOheDV46Hh32"
      }
    },
    {
      "cell_type": "code",
      "source": [
        "# Importando as bibliotecas necessarias\n",
        "from sklearn.datasets import make_hastie_10_2\n",
        "from sklearn.experimental import enable_hist_gradient_boosting\n",
        "from sklearn.ensemble import GradientBoostingClassifier\n",
        "from sklearn.model_selection import GridSearchCV\n",
        "\n",
        "# Hiperparâmetros a serem ajustados:\n",
        "param_grid = {\n",
        "    'loss': ['auto', 'binary_crossentropy'],  # Função de perda a ser otimizada (auto ou binary_crossentropy).\n",
        "    'learning_rate': [0.05, 0.08, 0.1],  # Taxa de aprendizado que controla a contribuição de cada etapa de boosting.\n",
        "    'max_iter': [50, 100, 200],  # Número máximo de estágios de boosting a serem executados.\n",
        "    'max_leaf_nodes': [10, 15, 31],  # Número máximo de folhas em cada árvore.\n",
        "    'min_samples_leaf': [1, 2, 4],  # Número mínimo de amostras em cada folha das árvores.\n",
        "}\n",
        "\n",
        "# Criando o objeto GridSearchCV\n",
        "grid_search = GridSearchCV(clf, param_grid, cv=5)\n",
        "\n",
        "# Executando a busca pelos melhores hiperparâmetros\n",
        "grid_search.fit(X_train, y_train)\n"
      ],
      "metadata": {
        "id": "jkSSv7YI-xiF"
      },
      "execution_count": null,
      "outputs": []
    },
    {
      "cell_type": "code",
      "source": [
        "# Imprimindo os melhores hiperparâmetros encontrados\n",
        "print(\"Melhores hiperparâmetros:\", grid_search.best_params_)"
      ],
      "metadata": {
        "colab": {
          "base_uri": "https://localhost:8080/"
        },
        "id": "tMp2CNQmBVpS",
        "outputId": "52a14d2a-1521-433c-bad4-df7499ace502"
      },
      "execution_count": 12,
      "outputs": [
        {
          "output_type": "stream",
          "name": "stdout",
          "text": [
            "Melhores hiperparâmetros: {'learning_rate': 0.1, 'loss': 'auto', 'max_iter': 200, 'max_leaf_nodes': 10, 'min_samples_leaf': 4}\n"
          ]
        }
      ]
    },
    {
      "cell_type": "code",
      "source": [
        "# Calculando a acurácia com os melhores hiperparâmetros\n",
        "best_clf = grid_search.best_estimator_\n",
        "best_accuracy = best_clf.score(X_test, y_test)"
      ],
      "metadata": {
        "id": "KAb4BRRIBXBl"
      },
      "execution_count": 13,
      "outputs": []
    },
    {
      "cell_type": "code",
      "source": [
        "# Imprimindo a acuracia do melhor modelo\n",
        "print(\"Acurácia com melhores hiperparâmetros:\", best_accuracy)"
      ],
      "metadata": {
        "colab": {
          "base_uri": "https://localhost:8080/"
        },
        "id": "oFeDBtrnBYG9",
        "outputId": "9d9861e8-8441-451d-999c-6aad6f5c145e"
      },
      "execution_count": 14,
      "outputs": [
        {
          "output_type": "stream",
          "name": "stdout",
          "text": [
            "Acurácia com melhores hiperparâmetros: 0.9194\n"
          ]
        }
      ]
    },
    {
      "cell_type": "markdown",
      "source": [
        "Houve uma melhora significativa de 2% na predição com os melhores Hiperparametros"
      ],
      "metadata": {
        "id": "XrFsZ8GnG4XF"
      }
    }
  ]
}